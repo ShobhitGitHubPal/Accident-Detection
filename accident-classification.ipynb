{
 "cells": [
  {
   "cell_type": "code",
   "execution_count": 1,
   "id": "c22e4849",
   "metadata": {
    "_cell_guid": "b1076dfc-b9ad-4769-8c92-a6c4dae69d19",
    "_uuid": "8f2839f25d086af736a60e9eeb907d3b93b6e0e5",
    "papermill": {
     "duration": 6.715324,
     "end_time": "2022-06-06T11:22:10.972115",
     "exception": false,
     "start_time": "2022-06-06T11:22:04.256791",
     "status": "completed"
    },
    "tags": []
   },
   "outputs": [],
   "source": [
    "import numpy as np\n",
    "import pandas as pd \n",
    "import matplotlib.pyplot as plt\n",
    "import tensorflow as tf\n",
    "from tensorflow.keras import layers\n",
    "from time import perf_counter \n",
    "import os\n",
    "from keras.callbacks import ModelCheckpoint\n",
    "from keras.models import load_model\n",
    "from tensorflow.keras.utils import plot_model\n",
    "from tensorflow.keras.optimizers.legacy import Adam"
   ]
  },
  {
   "cell_type": "code",
   "execution_count": 2,
   "id": "349b0057-7298-4971-a5d2-533493f86c30",
   "metadata": {},
   "outputs": [
    {
     "name": "stdout",
     "output_type": "stream",
     "text": [
      "Requirement already satisfied: pydot in c:\\users\\lenovo\\appdata\\local\\programs\\python\\python311\\lib\\site-packages (1.4.2)\n",
      "Requirement already satisfied: pyparsing>=2.1.4 in c:\\users\\lenovo\\appdata\\local\\programs\\python\\python311\\lib\\site-packages (from pydot) (3.1.1)\n",
      "Note: you may need to restart the kernel to use updated packages.\n"
     ]
    }
   ],
   "source": [
    "pip install pydot"
   ]
  },
  {
   "cell_type": "code",
   "execution_count": 3,
   "id": "75070279",
   "metadata": {
    "papermill": {
     "duration": 0.021664,
     "end_time": "2022-06-06T11:22:11.008874",
     "exception": false,
     "start_time": "2022-06-06T11:22:10.987210",
     "status": "completed"
    },
    "tags": []
   },
   "outputs": [],
   "source": [
    "## Defining batch specfications\n",
    "batch_size = 100\n",
    "img_height = 250\n",
    "img_width = 250"
   ]
  },
  {
   "cell_type": "code",
   "execution_count": 4,
   "id": "eed3d696",
   "metadata": {
    "papermill": {
     "duration": 0.258275,
     "end_time": "2022-06-06T11:22:11.281841",
     "exception": false,
     "start_time": "2022-06-06T11:22:11.023566",
     "status": "completed"
    },
    "tags": []
   },
   "outputs": [
    {
     "name": "stdout",
     "output_type": "stream",
     "text": [
      "Found 9174 files belonging to 2 classes.\n"
     ]
    }
   ],
   "source": [
    "## loading training set\n",
    "training_data = tf.keras.preprocessing.image_dataset_from_directory(\n",
    "    'data/train',\n",
    "    seed=42,\n",
    "    image_size= (img_height, img_width),\n",
    "    batch_size=batch_size,\n",
    "    color_mode='rgb'\n",
    ")"
   ]
  },
  {
   "cell_type": "code",
   "execution_count": 5,
   "id": "d52bb780",
   "metadata": {
    "papermill": {
     "duration": 0.141084,
     "end_time": "2022-06-06T11:22:11.438707",
     "exception": false,
     "start_time": "2022-06-06T11:22:11.297623",
     "status": "completed"
    },
    "tags": []
   },
   "outputs": [
    {
     "name": "stdout",
     "output_type": "stream",
     "text": [
      "Found 434 files belonging to 2 classes.\n"
     ]
    }
   ],
   "source": [
    "## loading validation dataset\n",
    "validation_data =  tf.keras.preprocessing.image_dataset_from_directory(\n",
    "    'data/val',\n",
    "    seed=42,\n",
    "    image_size= (img_height, img_width),\n",
    "    batch_size=batch_size,\n",
    "    color_mode='rgb'\n",
    ")"
   ]
  },
  {
   "cell_type": "code",
   "execution_count": 6,
   "id": "a5216ed0",
   "metadata": {
    "papermill": {
     "duration": 0.142358,
     "end_time": "2022-06-06T11:22:11.597671",
     "exception": false,
     "start_time": "2022-06-06T11:22:11.455313",
     "status": "completed"
    },
    "tags": []
   },
   "outputs": [
    {
     "name": "stdout",
     "output_type": "stream",
     "text": [
      "Found 551 files belonging to 2 classes.\n"
     ]
    }
   ],
   "source": [
    "## loading testing dataset\n",
    "testing_data = tf.keras.preprocessing.image_dataset_from_directory(\n",
    "    'data/test',\n",
    "    seed=42,\n",
    "    image_size= (img_height, img_width),\n",
    "    batch_size=batch_size,\n",
    "    color_mode='rgb'\n",
    ")"
   ]
  },
  {
   "cell_type": "code",
   "execution_count": 7,
   "id": "0f6cb045",
   "metadata": {
    "papermill": {
     "duration": 0.029358,
     "end_time": "2022-06-06T11:22:11.643040",
     "exception": false,
     "start_time": "2022-06-06T11:22:11.613682",
     "status": "completed"
    },
    "tags": []
   },
   "outputs": [
    {
     "data": {
      "text/plain": [
       "<_PrefetchDataset element_spec=(TensorSpec(shape=(None, 250, 250, 3), dtype=tf.float32, name=None), TensorSpec(shape=(None,), dtype=tf.int32, name=None))>"
      ]
     },
     "execution_count": 7,
     "metadata": {},
     "output_type": "execute_result"
    }
   ],
   "source": [
    "testing_data"
   ]
  },
  {
   "cell_type": "code",
   "execution_count": 8,
   "id": "cca4892e",
   "metadata": {
    "papermill": {
     "duration": 0.025718,
     "end_time": "2022-06-06T11:22:11.685637",
     "exception": false,
     "start_time": "2022-06-06T11:22:11.659919",
     "status": "completed"
    },
    "tags": []
   },
   "outputs": [
    {
     "data": {
      "text/plain": [
       "['Accident', 'Non Accident']"
      ]
     },
     "execution_count": 8,
     "metadata": {},
     "output_type": "execute_result"
    }
   ],
   "source": [
    "class_names = training_data.class_names\n",
    "class_names"
   ]
  },
  {
   "cell_type": "code",
   "execution_count": 9,
   "id": "5176cc78",
   "metadata": {
    "papermill": {
     "duration": 0.027549,
     "end_time": "2022-06-06T11:22:11.729835",
     "exception": false,
     "start_time": "2022-06-06T11:22:11.702286",
     "status": "completed"
    },
    "tags": []
   },
   "outputs": [],
   "source": [
    "## Configuring dataset for performance\n",
    "AUTOTUNE = tf.data.experimental.AUTOTUNE\n",
    "training_data = training_data.cache().prefetch(buffer_size=AUTOTUNE)\n",
    "testing_data = testing_data.cache().prefetch(buffer_size=AUTOTUNE)"
   ]
  },
  {
   "cell_type": "code",
   "execution_count": 10,
   "id": "82bc89e3",
   "metadata": {
    "papermill": {
     "duration": 0.079717,
     "end_time": "2022-06-06T11:22:11.827076",
     "exception": false,
     "start_time": "2022-06-06T11:22:11.747359",
     "status": "completed"
    },
    "tags": []
   },
   "outputs": [],
   "source": [
    "## Defining Cnn\n",
    "model = tf.keras.models.Sequential([\n",
    "  layers.BatchNormalization(),\n",
    "  layers.Conv2D(32, 3, activation='relu'), # Conv2D(f_size, filter_size, activation) # relu, sigmoid, softmax\n",
    "  layers.MaxPooling2D(), # MaxPooling\n",
    "  layers.Conv2D(64, 3, activation='relu'),\n",
    "  layers.MaxPooling2D(),\n",
    "  layers.Conv2D(128, 3, activation='relu'),\n",
    "  layers.MaxPooling2D(),\n",
    "  layers.Conv2D(256, 3, activation='relu'),\n",
    "  layers.MaxPooling2D(),\n",
    "  layers.Flatten(),\n",
    "  layers.Dense(512, activation='relu'),\n",
    "  layers.Dense(len(class_names), activation= 'softmax')\n",
    "])\n",
    "\n",
    "model.compile(optimizer='adam',loss='sparse_categorical_crossentropy', metrics=['accuracy'])"
   ]
  },
  {
   "cell_type": "code",
   "execution_count": 11,
   "id": "3c69caf5",
   "metadata": {
    "papermill": {
     "duration": 0.306291,
     "end_time": "2022-06-06T11:22:12.150305",
     "exception": false,
     "start_time": "2022-06-06T11:22:11.844014",
     "status": "completed"
    },
    "tags": []
   },
   "outputs": [
    {
     "name": "stdout",
     "output_type": "stream",
     "text": [
      "Model: \"sequential\"\n",
      "_________________________________________________________________\n",
      " Layer (type)                Output Shape              Param #   \n",
      "=================================================================\n",
      " batch_normalization (Batch  (None, 250, 250, 3)       12        \n",
      " Normalization)                                                  \n",
      "                                                                 \n",
      " conv2d (Conv2D)             (None, 248, 248, 32)      896       \n",
      "                                                                 \n",
      " max_pooling2d (MaxPooling2  (None, 124, 124, 32)      0         \n",
      " D)                                                              \n",
      "                                                                 \n",
      " conv2d_1 (Conv2D)           (None, 122, 122, 64)      18496     \n",
      "                                                                 \n",
      " max_pooling2d_1 (MaxPoolin  (None, 61, 61, 64)        0         \n",
      " g2D)                                                            \n",
      "                                                                 \n",
      " conv2d_2 (Conv2D)           (None, 59, 59, 128)       73856     \n",
      "                                                                 \n",
      " max_pooling2d_2 (MaxPoolin  (None, 29, 29, 128)       0         \n",
      " g2D)                                                            \n",
      "                                                                 \n",
      " conv2d_3 (Conv2D)           (None, 27, 27, 256)       295168    \n",
      "                                                                 \n",
      " max_pooling2d_3 (MaxPoolin  (None, 13, 13, 256)       0         \n",
      " g2D)                                                            \n",
      "                                                                 \n",
      " flatten (Flatten)           (None, 43264)             0         \n",
      "                                                                 \n",
      " dense (Dense)               (None, 512)               22151680  \n",
      "                                                                 \n",
      " dense_1 (Dense)             (None, 2)                 1026      \n",
      "                                                                 \n",
      "=================================================================\n",
      "Total params: 22541134 (85.99 MB)\n",
      "Trainable params: 22541128 (85.99 MB)\n",
      "Non-trainable params: 6 (24.00 Byte)\n",
      "_________________________________________________________________\n"
     ]
    }
   ],
   "source": [
    "model.build((None, 250, 250, 3))\n",
    "model.summary()"
   ]
  },
  {
   "cell_type": "code",
   "execution_count": 12,
   "id": "c18e9b4f",
   "metadata": {
    "papermill": {
     "duration": 1.281486,
     "end_time": "2022-06-06T11:22:13.449301",
     "exception": false,
     "start_time": "2022-06-06T11:22:12.167815",
     "status": "completed"
    },
    "tags": []
   },
   "outputs": [
    {
     "data": {
      "image/png": "[encoded data removed]",
      "text/plain": [
       "<IPython.core.display.Image object>"
      ]
     },
     "execution_count": 12,
     "metadata": {},
     "output_type": "execute_result"
    }
   ],
   "source": [
    "plot_model(model, show_shapes=True)"
   ]
  },
  {
   "cell_type": "code",
   "execution_count": null,
   "id": "0192e7be",
   "metadata": {
    "papermill": {
     "duration": 1370.724139,
     "end_time": "2022-06-06T11:45:04.194454",
     "exception": false,
     "start_time": "2022-06-06T11:22:13.470315",
     "status": "completed"
    },
    "scrolled": true,
    "tags": []
   },
   "outputs": [
    {
     "name": "stdout",
     "output_type": "stream",
     "text": [
      "Epoch 1/50\n",
      "92/92 [==============================] - ETA: 0s - loss: 0.7754 - accuracy: 0.7531 \n",
      "Epoch 1: val_accuracy improved from -inf to 0.65899, saving model to model_weights.h5\n"
     ]
    },
    {
     "name": "stderr",
     "output_type": "stream",
     "text": [
      "C:\\Users\\LENOVO\\AppData\\Local\\Programs\\Python\\Python311\\Lib\\site-packages\\keras\\src\\engine\\training.py:3079: UserWarning: You are saving your model as an HDF5 file via `model.save()`. This file format is considered legacy. We recommend using instead the native Keras format, e.g. `model.save('my_model.keras')`.\n",
      "  saving_api.save_model(\n"
     ]
    },
    {
     "name": "stdout",
     "output_type": "stream",
     "text": [
      "92/92 [==============================] - 1133s 12s/step - loss: 0.7754 - accuracy: 0.7531 - val_loss: 0.7798 - val_accuracy: 0.6590\n",
      "Epoch 2/50\n",
      "92/92 [==============================] - ETA: 0s - loss: 0.3134 - accuracy: 0.8707 \n",
      "Epoch 2: val_accuracy improved from 0.65899 to 0.79724, saving model to model_weights.h5\n",
      "92/92 [==============================] - 1242s 13s/step - loss: 0.3134 - accuracy: 0.8707 - val_loss: 0.4319 - val_accuracy: 0.7972\n",
      "Epoch 3/50\n",
      "92/92 [==============================] - ETA: 0s - loss: 0.2136 - accuracy: 0.9162 \n",
      "Epoch 3: val_accuracy improved from 0.79724 to 0.84793, saving model to model_weights.h5\n",
      "92/92 [==============================] - 1315s 14s/step - loss: 0.2136 - accuracy: 0.9162 - val_loss: 0.4316 - val_accuracy: 0.8479\n",
      "Epoch 4/50\n",
      "92/92 [==============================] - ETA: 0s - loss: 0.1462 - accuracy: 0.9460 \n",
      "Epoch 4: val_accuracy improved from 0.84793 to 0.90323, saving model to model_weights.h5\n",
      "92/92 [==============================] - 1296s 14s/step - loss: 0.1462 - accuracy: 0.9460 - val_loss: 0.4447 - val_accuracy: 0.9032\n",
      "Epoch 5/50\n",
      "92/92 [==============================] - ETA: 0s - loss: 0.0972 - accuracy: 0.9647 \n",
      "Epoch 5: val_accuracy did not improve from 0.90323\n",
      "92/92 [==============================] - 1166s 13s/step - loss: 0.0972 - accuracy: 0.9647 - val_loss: 0.4886 - val_accuracy: 0.8963\n",
      "Epoch 6/50\n",
      "92/92 [==============================] - ETA: 0s - loss: 0.0773 - accuracy: 0.9726 \n",
      "Epoch 6: val_accuracy improved from 0.90323 to 0.91014, saving model to model_weights.h5\n",
      "92/92 [==============================] - 1116s 12s/step - loss: 0.0773 - accuracy: 0.9726 - val_loss: 0.4253 - val_accuracy: 0.9101\n",
      "Epoch 7/50\n",
      "92/92 [==============================] - ETA: 0s - loss: 0.0601 - accuracy: 0.9781 \n",
      "Epoch 7: val_accuracy did not improve from 0.91014\n",
      "92/92 [==============================] - 1140s 12s/step - loss: 0.0601 - accuracy: 0.9781 - val_loss: 0.6810 - val_accuracy: 0.8963\n",
      "Epoch 8/50\n",
      "92/92 [==============================] - ETA: 0s - loss: 0.0493 - accuracy: 0.9832 \n",
      "Epoch 8: val_accuracy did not improve from 0.91014\n",
      "92/92 [==============================] - 1151s 12s/step - loss: 0.0493 - accuracy: 0.9832 - val_loss: 0.6484 - val_accuracy: 0.9101\n",
      "Epoch 9/50\n",
      "92/92 [==============================] - ETA: 0s - loss: 0.0385 - accuracy: 0.9865 \n",
      "Epoch 9: val_accuracy did not improve from 0.91014\n",
      "92/92 [==============================] - 1184s 13s/step - loss: 0.0385 - accuracy: 0.9865 - val_loss: 0.8173 - val_accuracy: 0.9009\n",
      "Epoch 10/50\n",
      "92/92 [==============================] - ETA: 0s - loss: 0.0327 - accuracy: 0.9899 \n",
      "Epoch 10: val_accuracy improved from 0.91014 to 0.91935, saving model to model_weights.h5\n",
      "92/92 [==============================] - 1121s 12s/step - loss: 0.0327 - accuracy: 0.9899 - val_loss: 0.7078 - val_accuracy: 0.9194\n",
      "Epoch 11/50\n",
      "92/92 [==============================] - ETA: 0s - loss: 0.0297 - accuracy: 0.9895 \n",
      "Epoch 11: val_accuracy did not improve from 0.91935\n",
      "92/92 [==============================] - 1119s 12s/step - loss: 0.0297 - accuracy: 0.9895 - val_loss: 0.7987 - val_accuracy: 0.9194\n",
      "Epoch 12/50\n",
      "92/92 [==============================] - ETA: 0s - loss: 0.0252 - accuracy: 0.9924 \n",
      "Epoch 12: val_accuracy did not improve from 0.91935\n",
      "92/92 [==============================] - 1135s 12s/step - loss: 0.0252 - accuracy: 0.9924 - val_loss: 0.7204 - val_accuracy: 0.9171\n",
      "Epoch 13/50\n",
      "92/92 [==============================] - ETA: 0s - loss: 0.0183 - accuracy: 0.9944 \n",
      "Epoch 13: val_accuracy did not improve from 0.91935\n",
      "92/92 [==============================] - 1083s 12s/step - loss: 0.0183 - accuracy: 0.9944 - val_loss: 0.8060 - val_accuracy: 0.9124\n",
      "Epoch 14/50\n",
      "92/92 [==============================] - ETA: 0s - loss: 0.0152 - accuracy: 0.9964 \n",
      "Epoch 14: val_accuracy improved from 0.91935 to 0.92166, saving model to model_weights.h5\n",
      "92/92 [==============================] - 1970s 22s/step - loss: 0.0152 - accuracy: 0.9964 - val_loss: 0.9070 - val_accuracy: 0.9217\n",
      "Epoch 15/50\n",
      "92/92 [==============================] - ETA: 0s - loss: 0.0109 - accuracy: 0.9964  \n",
      "Epoch 15: val_accuracy did not improve from 0.92166\n",
      "92/92 [==============================] - 8226s 90s/step - loss: 0.0109 - accuracy: 0.9964 - val_loss: 0.8169 - val_accuracy: 0.9147\n",
      "Epoch 16/50\n",
      "92/92 [==============================] - ETA: 0s - loss: 0.0127 - accuracy: 0.9967 \n",
      "Epoch 16: val_accuracy did not improve from 0.92166\n",
      "92/92 [==============================] - 1022s 11s/step - loss: 0.0127 - accuracy: 0.9967 - val_loss: 0.8619 - val_accuracy: 0.9124\n",
      "Epoch 17/50\n",
      "92/92 [==============================] - ETA: 0s - loss: 0.0126 - accuracy: 0.9967 \n",
      "Epoch 17: val_accuracy did not improve from 0.92166\n",
      "92/92 [==============================] - 1054s 11s/step - loss: 0.0126 - accuracy: 0.9967 - val_loss: 0.9741 - val_accuracy: 0.9147\n",
      "Epoch 18/50\n",
      "92/92 [==============================] - ETA: 0s - loss: 0.0170 - accuracy: 0.9943 \n",
      "Epoch 18: val_accuracy did not improve from 0.92166\n",
      "92/92 [==============================] - 1051s 11s/step - loss: 0.0170 - accuracy: 0.9943 - val_loss: 0.9809 - val_accuracy: 0.9147\n",
      "Epoch 19/50\n",
      "92/92 [==============================] - ETA: 0s - loss: 0.0145 - accuracy: 0.9949 \n",
      "Epoch 19: val_accuracy did not improve from 0.92166\n",
      "92/92 [==============================] - 1058s 11s/step - loss: 0.0145 - accuracy: 0.9949 - val_loss: 1.1138 - val_accuracy: 0.9194\n",
      "Epoch 20/50\n",
      "92/92 [==============================] - ETA: 0s - loss: 0.0104 - accuracy: 0.9963 \n",
      "Epoch 20: val_accuracy did not improve from 0.92166\n",
      "92/92 [==============================] - 1083s 12s/step - loss: 0.0104 - accuracy: 0.9963 - val_loss: 1.0263 - val_accuracy: 0.9101\n",
      "Epoch 21/50\n",
      "92/92 [==============================] - ETA: 0s - loss: 0.0105 - accuracy: 0.9976 \n",
      "Epoch 21: val_accuracy did not improve from 0.92166\n",
      "92/92 [==============================] - 1071s 12s/step - loss: 0.0105 - accuracy: 0.9976 - val_loss: 1.0347 - val_accuracy: 0.9078\n",
      "Epoch 22/50\n",
      "92/92 [==============================] - ETA: 0s - loss: 0.0039 - accuracy: 0.9988 \n",
      "Epoch 22: val_accuracy did not improve from 0.92166\n",
      "92/92 [==============================] - 1084s 12s/step - loss: 0.0039 - accuracy: 0.9988 - val_loss: 1.0278 - val_accuracy: 0.9032\n",
      "Epoch 23/50\n",
      "92/92 [==============================] - ETA: 0s - loss: 0.0087 - accuracy: 0.9972 \n",
      "Epoch 23: val_accuracy did not improve from 0.92166\n",
      "92/92 [==============================] - 1107s 12s/step - loss: 0.0087 - accuracy: 0.9972 - val_loss: 0.8748 - val_accuracy: 0.9217\n",
      "Epoch 24/50\n",
      "92/92 [==============================] - ETA: 0s - loss: 0.0077 - accuracy: 0.9981 \n",
      "Epoch 24: val_accuracy did not improve from 0.92166\n",
      "92/92 [==============================] - 1088s 12s/step - loss: 0.0077 - accuracy: 0.9981 - val_loss: 0.9122 - val_accuracy: 0.9032\n",
      "Epoch 25/50\n",
      "92/92 [==============================] - ETA: 0s - loss: 0.0056 - accuracy: 0.9981 \n",
      "Epoch 25: val_accuracy did not improve from 0.92166\n",
      "92/92 [==============================] - 1068s 12s/step - loss: 0.0056 - accuracy: 0.9981 - val_loss: 0.8576 - val_accuracy: 0.9171\n",
      "Epoch 26/50\n",
      "92/92 [==============================] - ETA: 0s - loss: 0.0058 - accuracy: 0.9984 \n",
      "Epoch 26: val_accuracy did not improve from 0.92166\n",
      "92/92 [==============================] - 1062s 12s/step - loss: 0.0058 - accuracy: 0.9984 - val_loss: 1.0017 - val_accuracy: 0.9147\n",
      "Epoch 27/50\n",
      "92/92 [==============================] - ETA: 0s - loss: 0.0088 - accuracy: 0.9979 \n",
      "Epoch 27: val_accuracy did not improve from 0.92166\n",
      "92/92 [==============================] - 1058s 11s/step - loss: 0.0088 - accuracy: 0.9979 - val_loss: 0.9073 - val_accuracy: 0.9147\n",
      "Epoch 28/50\n",
      "92/92 [==============================] - ETA: 0s - loss: 0.0082 - accuracy: 0.9983 \n",
      "Epoch 28: val_accuracy did not improve from 0.92166\n",
      "92/92 [==============================] - 1066s 12s/step - loss: 0.0082 - accuracy: 0.9983 - val_loss: 0.9638 - val_accuracy: 0.9078\n",
      "Epoch 29/50\n",
      "92/92 [==============================] - ETA: 0s - loss: 0.0048 - accuracy: 0.9987  \n",
      "Epoch 29: val_accuracy did not improve from 0.92166\n",
      "92/92 [==============================] - 12092s 133s/step - loss: 0.0048 - accuracy: 0.9987 - val_loss: 1.0050 - val_accuracy: 0.9009\n",
      "Epoch 30/50\n",
      "43/92 [=============>................] - ETA: 7:50 - loss: 0.0065 - accuracy: 0.9988"
     ]
    }
   ],
   "source": [
    "## lets train our CNN\n",
    "checkpoint = ModelCheckpoint(\"model_weights.h5\", monitor='val_accuracy', verbose=1, save_best_only=True, mode='max')\n",
    "callbacks_list = [checkpoint]\n",
    "history = model.fit(training_data, validation_data=validation_data, epochs = 50, callbacks=callbacks_list)"
   ]
  },
  {
   "cell_type": "code",
   "execution_count": null,
   "id": "1d0e4f18",
   "metadata": {
    "papermill": {
     "duration": 0.09748,
     "end_time": "2022-06-06T11:45:04.382001",
     "exception": false,
     "start_time": "2022-06-06T11:45:04.284521",
     "status": "completed"
    },
    "tags": []
   },
   "outputs": [],
   "source": [
    "###### serialize model structure to JSON   vv \n",
    "model_json = model.to_json()\n",
    "with open(\"model.json\", \"w\") as json_file:\n",
    "    json_file.write(model_json)"
   ]
  },
  {
   "cell_type": "code",
   "execution_count": null,
   "id": "4f688b53",
   "metadata": {
    "papermill": {
     "duration": 0.389861,
     "end_time": "2022-06-06T11:45:04.856513",
     "exception": false,
     "start_time": "2022-06-06T11:45:04.466652",
     "status": "completed"
    },
    "tags": []
   },
   "outputs": [],
   "source": [
    "## stats on training data\n",
    "plt.plot(history.history['loss'], label = 'training loss')\n",
    "plt.plot(history.history['accuracy'], label = 'training accuracy')\n",
    "plt.grid(True)\n",
    "plt.legend()"
   ]
  },
  {
   "cell_type": "code",
   "execution_count": null,
   "id": "aeb2c132",
   "metadata": {
    "papermill": {
     "duration": 0.329018,
     "end_time": "2022-06-06T11:45:05.272358",
     "exception": false,
     "start_time": "2022-06-06T11:45:04.943340",
     "status": "completed"
    },
    "tags": []
   },
   "outputs": [],
   "source": [
    "## stats on training data\n",
    "plt.plot(history.history['val_loss'], label = 'validation loss')\n",
    "plt.plot(history.history['val_accuracy'], label = 'validation accuracy')\n",
    "plt.grid(True)\n",
    "plt.legend()"
   ]
  },
  {
   "cell_type": "code",
   "execution_count": null,
   "id": "5c1b2041",
   "metadata": {
    "papermill": {
     "duration": 7.269324,
     "end_time": "2022-06-06T11:45:12.629596",
     "exception": false,
     "start_time": "2022-06-06T11:45:05.360272",
     "status": "completed"
    },
    "tags": []
   },
   "outputs": [],
   "source": [
    "## lets vizualize results on testing data\n",
    "AccuracyVector = []\n",
    "plt.figure(figsize=(30, 30))\n",
    "for images, labels in testing_data.take(1):\n",
    "    predictions = model.predict(images)\n",
    "    predlabel = []\n",
    "    prdlbl = []\n",
    "    \n",
    "    for mem in predictions:\n",
    "        predlabel.append(class_names[np.argmax(mem)])\n",
    "        prdlbl.append(np.argmax(mem))\n",
    "    \n",
    "    AccuracyVector = np.array(prdlbl) == labels\n",
    "    for i in range(40):\n",
    "        ax = plt.subplot(10, 4, i + 1)\n",
    "        plt.imshow(images[i].numpy().astype(\"uint8\"))\n",
    "        plt.title('Pred: '+ predlabel[i]+' actl:'+class_names[labels[i]] )\n",
    "        plt.axis('off')\n",
    "        plt.grid(True)"
   ]
  },
  {
   "cell_type": "code",
   "execution_count": null,
   "id": "8663a254",
   "metadata": {
    "papermill": {
     "duration": 0.148052,
     "end_time": "2022-06-06T11:45:12.933355",
     "exception": false,
     "start_time": "2022-06-06T11:45:12.785303",
     "status": "completed"
    },
    "tags": []
   },
   "outputs": [],
   "source": []
  }
 ],
 "metadata": {
  "interpreter": {
   "hash": "916dbcbb3f70747c44a77c7bcd40155683ae19c65e1c03b4aa3499c5328201f1"
  },
  "kernelspec": {
   "display_name": "Python 3 (ipykernel)",
   "language": "python",
   "name": "python3"
  },
  "language_info": {
   "codemirror_mode": {
    "name": "ipython",
    "version": 3
   },
   "file_extension": ".py",
   "mimetype": "text/x-python",
   "name": "python",
   "nbconvert_exporter": "python",
   "pygments_lexer": "ipython3",
   "version": "3.11.4"
  },
  "papermill": {
   "default_parameters": {},
   "duration": 1402.432589,
   "end_time": "2022-06-06T11:45:16.380977",
   "environment_variables": {},
   "exception": null,
   "input_path": "__notebook__.ipynb",
   "output_path": "__notebook__.ipynb",
   "parameters": {},
   "start_time": "2022-06-06T11:21:53.948388",
   "version": "2.3.3"
  }
 },
 "nbformat": 4,
 "nbformat_minor": 5
}
